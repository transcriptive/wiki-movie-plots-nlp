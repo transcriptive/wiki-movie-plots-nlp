{
 "cells": [
  {
   "cell_type": "markdown",
   "id": "1d3add84-789a-4f49-ac01-4871e723bf4a",
   "metadata": {},
   "source": [
    "# Naive Bayes"
   ]
  },
  {
   "cell_type": "code",
   "execution_count": 9,
   "id": "435bf9b8-163e-4b33-83e4-a0948d474de6",
   "metadata": {
    "tags": []
   },
   "outputs": [],
   "source": [
    "import pandas as pd\n",
    "from sklearn.feature_extraction.text import CountVectorizer, TfidfVectorizer\n",
    "from sklearn.naive_bayes import MultinomialNB\n",
    "from sklearn.model_selection import train_test_split, GridSearchCV\n",
    "from sklearn.pipeline import make_pipeline\n",
    "from sklearn.metrics import plot_confusion_matrix"
   ]
  },
  {
   "cell_type": "markdown",
   "id": "c2544600-ff2e-47b1-88f3-369cb2722b69",
   "metadata": {},
   "source": [
    "## Import Data"
   ]
  },
  {
   "cell_type": "code",
   "execution_count": 2,
   "id": "52829ed7-de86-4183-b3bd-e727c7fe06d1",
   "metadata": {},
   "outputs": [],
   "source": [
    "movies = pd.read_csv('./data/movies_cleaned.csv')"
   ]
  },
  {
   "cell_type": "code",
   "execution_count": 3,
   "id": "777444e7-543a-4066-983d-2f91112c6a83",
   "metadata": {},
   "outputs": [],
   "source": [
    "# gonna start with a simple binary classification task using the two most common genres\n",
    "data = movies[movies['Genre'].isin(['comedy', 'drama'])].copy(deep=True)"
   ]
  },
  {
   "cell_type": "code",
   "execution_count": 4,
   "id": "ac69c142-ac39-4fa2-835f-8e96ff4fcb9b",
   "metadata": {},
   "outputs": [
    {
     "name": "stdout",
     "output_type": "stream",
     "text": [
      "<class 'pandas.core.frame.DataFrame'>\n",
      "Int64Index: 10343 entries, 1 to 20956\n",
      "Data columns (total 7 columns):\n",
      " #   Column            Non-Null Count  Dtype \n",
      "---  ------            --------------  ----- \n",
      " 0   Release Year      10343 non-null  int64 \n",
      " 1   Title             10343 non-null  object\n",
      " 2   Origin/Ethnicity  10343 non-null  object\n",
      " 3   Director          10343 non-null  object\n",
      " 4   Genre             10343 non-null  object\n",
      " 5   Plot              10343 non-null  object\n",
      " 6   plot_length       10343 non-null  int64 \n",
      "dtypes: int64(2), object(5)\n",
      "memory usage: 646.4+ KB\n"
     ]
    }
   ],
   "source": [
    "data.info()"
   ]
  },
  {
   "cell_type": "markdown",
   "id": "2688f2fc-1f75-458b-95ca-8f0aab9f2591",
   "metadata": {},
   "source": [
    "## Baseline"
   ]
  },
  {
   "cell_type": "code",
   "execution_count": 6,
   "id": "653a3f20-7640-4b9f-a566-a6396cac4dc1",
   "metadata": {},
   "outputs": [
    {
     "data": {
      "text/plain": [
       "drama     0.576622\n",
       "comedy    0.423378\n",
       "Name: Genre, dtype: float64"
      ]
     },
     "execution_count": 6,
     "metadata": {},
     "output_type": "execute_result"
    }
   ],
   "source": [
    "data['Genre'].value_counts(normalize=True)"
   ]
  },
  {
   "cell_type": "code",
   "execution_count": 10,
   "id": "7b06e2fc-7b61-40d7-98be-e9996356b021",
   "metadata": {},
   "outputs": [],
   "source": [
    "X_train, X_test, y_train, y_test = train_test_split(data['Plot'], data['Genre'])"
   ]
  },
  {
   "cell_type": "markdown",
   "id": "6df6f661-54e0-41ea-915a-af429da99378",
   "metadata": {},
   "source": [
    "## Basic NB model"
   ]
  },
  {
   "cell_type": "markdown",
   "id": "9297bea8-cb2d-4416-a3ef-9b7b76508842",
   "metadata": {},
   "source": [
    "### Count Vectorizer"
   ]
  },
  {
   "cell_type": "code",
   "execution_count": 11,
   "id": "54a75726-d292-495e-b9ac-e403f5bff4ff",
   "metadata": {},
   "outputs": [],
   "source": [
    "cvect = CountVectorizer()\n",
    "X_train_vect = cvect.fit_transform(X_train)\n",
    "X_test_vect = cvect.transform(X_test)"
   ]
  },
  {
   "cell_type": "code",
   "execution_count": 12,
   "id": "e7323156-9ddf-4781-b3b9-601102cd1ce7",
   "metadata": {},
   "outputs": [],
   "source": [
    "bayes = MultinomialNB()"
   ]
  },
  {
   "cell_type": "code",
   "execution_count": 13,
   "id": "3e11cef5-f8ef-4df8-aebc-e87eaec23013",
   "metadata": {},
   "outputs": [
    {
     "data": {
      "text/plain": [
       "0.9320613639293541"
      ]
     },
     "execution_count": 13,
     "metadata": {},
     "output_type": "execute_result"
    }
   ],
   "source": [
    "bayes.fit(X_train_vect, y_train)\n",
    "bayes.score(X_train_vect, y_train)"
   ]
  },
  {
   "cell_type": "code",
   "execution_count": 14,
   "id": "253685df-8be7-48c6-98d6-15097ee08240",
   "metadata": {},
   "outputs": [
    {
     "data": {
      "text/plain": [
       "0.7645011600928074"
      ]
     },
     "execution_count": 14,
     "metadata": {},
     "output_type": "execute_result"
    }
   ],
   "source": [
    "bayes.score(X_test_vect, y_test)"
   ]
  },
  {
   "cell_type": "markdown",
   "id": "ea8073c1-0b9d-428f-92f2-9c1851f66ef5",
   "metadata": {},
   "source": [
    "### Tfidf Vectorizer"
   ]
  },
  {
   "cell_type": "code",
   "execution_count": 15,
   "id": "83a5de68-fb93-4007-8aa6-0b3a744ff864",
   "metadata": {},
   "outputs": [],
   "source": [
    "tfidf = TfidfVectorizer()"
   ]
  },
  {
   "cell_type": "code",
   "execution_count": 16,
   "id": "a20e15fc-54eb-4b40-82cb-f9414e44f537",
   "metadata": {},
   "outputs": [],
   "source": [
    "X_train_tf = tfidf.fit_transform(X_train)\n",
    "X_test_tf = tfidf.transform(X_test)"
   ]
  },
  {
   "cell_type": "code",
   "execution_count": 18,
   "id": "363980b6-972e-417b-bf05-0b7723aaee42",
   "metadata": {},
   "outputs": [
    {
     "data": {
      "text/plain": [
       "0.7428129431481243"
      ]
     },
     "execution_count": 18,
     "metadata": {},
     "output_type": "execute_result"
    }
   ],
   "source": [
    "bayes.fit(X_train_tf, y_train)\n",
    "bayes.score(X_train_tf, y_train)"
   ]
  },
  {
   "cell_type": "code",
   "execution_count": 19,
   "id": "cae548a1-b9e1-49cd-b0cc-f11811727920",
   "metadata": {},
   "outputs": [
    {
     "data": {
      "text/plain": [
       "0.631477184841454"
      ]
     },
     "execution_count": 19,
     "metadata": {},
     "output_type": "execute_result"
    }
   ],
   "source": [
    "bayes.score(X_test_tf, y_test)"
   ]
  },
  {
   "cell_type": "markdown",
   "id": "21e9a552-0751-4fc9-8428-dfd44f788212",
   "metadata": {},
   "source": [
    "## Optimize the count vectorizer model"
   ]
  },
  {
   "cell_type": "code",
   "execution_count": 20,
   "id": "ee15ab38-7c24-4904-8776-4cd59f9beaa3",
   "metadata": {},
   "outputs": [],
   "source": [
    "pipe = make_pipeline(CountVectorizer(), MultinomialNB())"
   ]
  },
  {
   "cell_type": "code",
   "execution_count": 21,
   "id": "d7d76d27-8b2a-4cf6-a0f8-c778dae053b1",
   "metadata": {},
   "outputs": [],
   "source": [
    "params = {\n",
    "    'countvectorizer__stop_words': [None, 'english'],\n",
    "    'countvectorizer__ngram_range': [(1, 1), (1, 2), (1, 3), (2, 2), (2, 3), (3, 3)],\n",
    "    'countvectorizer__max_features': [1000, 2500, 5000, 7500, 10_000, 12_500, None],\n",
    "    'multinomialnb__alpha': [0.1, 1, 10, 100]\n",
    "}"
   ]
  },
  {
   "cell_type": "code",
   "execution_count": 22,
   "id": "a166af40-4021-458f-83ba-bdbad13468b3",
   "metadata": {},
   "outputs": [],
   "source": [
    "gs = GridSearchCV(pipe, params, n_jobs = -1)"
   ]
  },
  {
   "cell_type": "code",
   "execution_count": 23,
   "id": "6d0f8ac9-9d3c-4113-abb5-28d49bccf658",
   "metadata": {},
   "outputs": [
    {
     "name": "stdout",
     "output_type": "stream",
     "text": [
      "CPU times: user 14.3 s, sys: 14.1 s, total: 28.4 s\n",
      "Wall time: 45min 52s\n"
     ]
    },
    {
     "data": {
      "text/plain": [
       "GridSearchCV(estimator=Pipeline(steps=[('countvectorizer', CountVectorizer()),\n",
       "                                       ('multinomialnb', MultinomialNB())]),\n",
       "             n_jobs=-1,\n",
       "             param_grid={'countvectorizer__max_features': [1000, 2500, 5000,\n",
       "                                                           7500, 10000, 12500,\n",
       "                                                           None],\n",
       "                         'countvectorizer__ngram_range': [(1, 1), (1, 2),\n",
       "                                                          (1, 3), (2, 2),\n",
       "                                                          (2, 3), (3, 3)],\n",
       "                         'countvectorizer__stop_words': [None, 'english'],\n",
       "                         'multinomialnb__alpha': [0.1, 1, 10, 100]})"
      ]
     },
     "execution_count": 23,
     "metadata": {},
     "output_type": "execute_result"
    }
   ],
   "source": [
    "%%time\n",
    "gs.fit(X_train, y_train)"
   ]
  },
  {
   "cell_type": "code",
   "execution_count": 24,
   "id": "6a5ec694-691f-4daf-a8f1-83c334a6c899",
   "metadata": {},
   "outputs": [
    {
     "data": {
      "text/plain": [
       "0.9987108418202914"
      ]
     },
     "execution_count": 24,
     "metadata": {},
     "output_type": "execute_result"
    }
   ],
   "source": [
    "gs.score(X_train, y_train)"
   ]
  },
  {
   "cell_type": "code",
   "execution_count": 40,
   "id": "deb84e4d-b05c-4d7b-9051-459e86e7f471",
   "metadata": {},
   "outputs": [
    {
     "data": {
      "text/plain": [
       "0.7815158546017015"
      ]
     },
     "execution_count": 40,
     "metadata": {},
     "output_type": "execute_result"
    }
   ],
   "source": [
    "gs.score(X_test, y_test)"
   ]
  },
  {
   "cell_type": "code",
   "execution_count": 26,
   "id": "afbaadc7-0a4a-41c2-8c0a-0228a654ee3e",
   "metadata": {},
   "outputs": [
    {
     "data": {
      "text/plain": [
       "{'countvectorizer__max_features': None,\n",
       " 'countvectorizer__ngram_range': (1, 2),\n",
       " 'countvectorizer__stop_words': None,\n",
       " 'multinomialnb__alpha': 0.1}"
      ]
     },
     "execution_count": 26,
     "metadata": {},
     "output_type": "execute_result"
    }
   ],
   "source": [
    "gs.best_params_"
   ]
  },
  {
   "cell_type": "code",
   "execution_count": 39,
   "id": "efe01065-acdc-46d1-bef8-b5080c9f3135",
   "metadata": {},
   "outputs": [
    {
     "data": {
      "text/plain": [
       "<sklearn.metrics._plot.confusion_matrix.ConfusionMatrixDisplay at 0x176c06fa0>"
      ]
     },
     "execution_count": 39,
     "metadata": {},
     "output_type": "execute_result"
    },
    {
     "data": {
      "image/png": "[encoded data removed]",
      "text/plain": [
       "<Figure size 432x288 with 2 Axes>"
      ]
     },
     "metadata": {
      "needs_background": "light"
     },
     "output_type": "display_data"
    }
   ],
   "source": [
    "plot_confusion_matrix(gs, X_test, y_test)"
   ]
  },
  {
   "cell_type": "code",
   "execution_count": 35,
   "id": "79f6ffc7-ea33-4dee-be9d-646799816216",
   "metadata": {},
   "outputs": [],
   "source": [
    "params2 = {\n",
    "    'countvectorizer__ngram_range': [(1, 2)],\n",
    "    'multinomialnb__alpha': [0.1, 0.2, 0.3, 0.4, 0.5, 0.05, 0.06, 0.07, 0.08, 0.09]\n",
    "}"
   ]
  },
  {
   "cell_type": "code",
   "execution_count": 36,
   "id": "b8c1cb93-e82f-475f-93e7-81349411b96e",
   "metadata": {},
   "outputs": [],
   "source": [
    "gs2 = GridSearchCV(pipe, params2, n_jobs = -1)"
   ]
  },
  {
   "cell_type": "code",
   "execution_count": 37,
   "id": "18e72e00-7873-4581-a686-5f4faa43490c",
   "metadata": {},
   "outputs": [
    {
     "name": "stdout",
     "output_type": "stream",
     "text": [
      "CPU times: user 5.56 s, sys: 475 ms, total: 6.03 s\n",
      "Wall time: 1min 20s\n"
     ]
    },
    {
     "data": {
      "text/plain": [
       "0.7791956689868523"
      ]
     },
     "execution_count": 37,
     "metadata": {},
     "output_type": "execute_result"
    }
   ],
   "source": [
    "%%time\n",
    "gs2.fit(X_train, y_train)\n",
    "gs2.score(X_test, y_test)"
   ]
  },
  {
   "cell_type": "code",
   "execution_count": 38,
   "id": "6049a73d-54a8-4a09-ab6b-a1f5ee0f59de",
   "metadata": {},
   "outputs": [
    {
     "data": {
      "text/plain": [
       "{'countvectorizer__ngram_range': (1, 2), 'multinomialnb__alpha': 0.4}"
      ]
     },
     "execution_count": 38,
     "metadata": {},
     "output_type": "execute_result"
    }
   ],
   "source": [
    "gs2.best_params_"
   ]
  },
  {
   "cell_type": "code",
   "execution_count": null,
   "id": "e65dd22f-f45f-4501-89b9-6886eb4d8f5b",
   "metadata": {},
   "outputs": [],
   "source": []
  }
 ],
 "metadata": {
  "kernelspec": {
   "display_name": "Python 3",
   "language": "python",
   "name": "python3"
  },
  "language_info": {
   "codemirror_mode": {
    "name": "ipython",
    "version": 3
   },
   "file_extension": ".py",
   "mimetype": "text/x-python",
   "name": "python",
   "nbconvert_exporter": "python",
   "pygments_lexer": "ipython3",
   "version": "3.8.8"
  }
 },
 "nbformat": 4,
 "nbformat_minor": 5
}
