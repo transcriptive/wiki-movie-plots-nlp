{
 "cells": [
  {
   "cell_type": "markdown",
   "id": "18bb8ea3-d1d1-4d3e-b472-8368f81b2471",
   "metadata": {},
   "source": [
    "# Simple Classification Model"
   ]
  },
  {
   "cell_type": "code",
   "execution_count": 1,
   "id": "74d8f20d-0d91-4d34-9011-599435f8c2f3",
   "metadata": {},
   "outputs": [
    {
     "name": "stderr",
     "output_type": "stream",
     "text": [
      "<frozen importlib._bootstrap>:219: RuntimeWarning: numpy.ndarray size changed, may indicate binary incompatibility. Expected 88, got 80\n"
     ]
    }
   ],
   "source": [
    "import pandas as pd\n",
    "import spacy\n",
    "from sklearn.linear_model import LogisticRegression\n",
    "from sklearn.feature_extraction.text import CountVectorizer, TfidfVectorizer\n",
    "from sklearn.model_selection import train_test_split, GridSearchCV\n",
    "from sklearn.preprocessing import StandardScaler\n",
    "from sklearn.pipeline import make_pipeline\n",
    "from sklearn.metrics import plot_confusion_matrix"
   ]
  },
  {
   "cell_type": "markdown",
   "id": "e511b7ae-9d7d-4f34-a125-d4266f6a39d9",
   "metadata": {},
   "source": [
    "## Import data"
   ]
  },
  {
   "cell_type": "code",
   "execution_count": 2,
   "id": "4dfbed6b-43e7-41fa-b156-ac8c06041491",
   "metadata": {},
   "outputs": [],
   "source": [
    "movies = pd.read_csv('./data/movies_cleaned.csv')"
   ]
  },
  {
   "cell_type": "code",
   "execution_count": 3,
   "id": "238b54c7-23cc-42b8-88a9-2951a6e3334b",
   "metadata": {},
   "outputs": [
    {
     "data": {
      "text/html": [
       "<div>\n",
       "<style scoped>\n",
       "    .dataframe tbody tr th:only-of-type {\n",
       "        vertical-align: middle;\n",
       "    }\n",
       "\n",
       "    .dataframe tbody tr th {\n",
       "        vertical-align: top;\n",
       "    }\n",
       "\n",
       "    .dataframe thead th {\n",
       "        text-align: right;\n",
       "    }\n",
       "</style>\n",
       "<table border=\"1\" class=\"dataframe\">\n",
       "  <thead>\n",
       "    <tr style=\"text-align: right;\">\n",
       "      <th></th>\n",
       "      <th>Release Year</th>\n",
       "      <th>Title</th>\n",
       "      <th>Origin/Ethnicity</th>\n",
       "      <th>Director</th>\n",
       "      <th>Genre</th>\n",
       "      <th>Plot</th>\n",
       "      <th>plot_length</th>\n",
       "    </tr>\n",
       "  </thead>\n",
       "  <tbody>\n",
       "    <tr>\n",
       "      <th>0</th>\n",
       "      <td>1903</td>\n",
       "      <td>The Great Train Robbery</td>\n",
       "      <td>American</td>\n",
       "      <td>Edwin S. Porter</td>\n",
       "      <td>western</td>\n",
       "      <td>The film opens with two bandits breaking into ...</td>\n",
       "      <td>239</td>\n",
       "    </tr>\n",
       "    <tr>\n",
       "      <th>1</th>\n",
       "      <td>1904</td>\n",
       "      <td>The Suburbanite</td>\n",
       "      <td>American</td>\n",
       "      <td>Wallace McCutcheon</td>\n",
       "      <td>comedy</td>\n",
       "      <td>The film is about a family who move to the sub...</td>\n",
       "      <td>34</td>\n",
       "    </tr>\n",
       "    <tr>\n",
       "      <th>2</th>\n",
       "      <td>1907</td>\n",
       "      <td>How Brown Saw the Baseball Game</td>\n",
       "      <td>American</td>\n",
       "      <td>Unknown</td>\n",
       "      <td>comedy</td>\n",
       "      <td>Before heading out to a baseball game at a nea...</td>\n",
       "      <td>103</td>\n",
       "    </tr>\n",
       "    <tr>\n",
       "      <th>3</th>\n",
       "      <td>1907</td>\n",
       "      <td>Laughing Gas</td>\n",
       "      <td>American</td>\n",
       "      <td>Edwin Stanton Porter</td>\n",
       "      <td>comedy</td>\n",
       "      <td>The plot is that of a black woman going to the...</td>\n",
       "      <td>48</td>\n",
       "    </tr>\n",
       "    <tr>\n",
       "      <th>4</th>\n",
       "      <td>1908</td>\n",
       "      <td>The Adventures of Dollie</td>\n",
       "      <td>American</td>\n",
       "      <td>D. W. Griffith</td>\n",
       "      <td>drama</td>\n",
       "      <td>On a beautiful summer day a father and mother ...</td>\n",
       "      <td>143</td>\n",
       "    </tr>\n",
       "  </tbody>\n",
       "</table>\n",
       "</div>"
      ],
      "text/plain": [
       "   Release Year                            Title Origin/Ethnicity  \\\n",
       "0          1903          The Great Train Robbery         American   \n",
       "1          1904                  The Suburbanite         American   \n",
       "2          1907  How Brown Saw the Baseball Game         American   \n",
       "3          1907                     Laughing Gas         American   \n",
       "4          1908         The Adventures of Dollie         American   \n",
       "\n",
       "               Director    Genre  \\\n",
       "0       Edwin S. Porter  western   \n",
       "1    Wallace McCutcheon   comedy   \n",
       "2               Unknown   comedy   \n",
       "3  Edwin Stanton Porter   comedy   \n",
       "4        D. W. Griffith    drama   \n",
       "\n",
       "                                                Plot  plot_length  \n",
       "0  The film opens with two bandits breaking into ...          239  \n",
       "1  The film is about a family who move to the sub...           34  \n",
       "2  Before heading out to a baseball game at a nea...          103  \n",
       "3  The plot is that of a black woman going to the...           48  \n",
       "4  On a beautiful summer day a father and mother ...          143  "
      ]
     },
     "execution_count": 3,
     "metadata": {},
     "output_type": "execute_result"
    }
   ],
   "source": [
    "movies.head()"
   ]
  },
  {
   "cell_type": "code",
   "execution_count": 8,
   "id": "bb9e4928-c540-43f7-a6fe-3e8793e340cb",
   "metadata": {},
   "outputs": [],
   "source": [
    "# gonna start with a simple binary classification task using the two most common genres\n",
    "data = movies[movies['Genre'].isin(['comedy', 'drama'])].copy(deep=True)"
   ]
  },
  {
   "cell_type": "code",
   "execution_count": 9,
   "id": "a0c7fd54-97ad-4376-8e9d-f477fca755dc",
   "metadata": {},
   "outputs": [
    {
     "name": "stdout",
     "output_type": "stream",
     "text": [
      "<class 'pandas.core.frame.DataFrame'>\n",
      "Int64Index: 10343 entries, 1 to 20956\n",
      "Data columns (total 7 columns):\n",
      " #   Column            Non-Null Count  Dtype \n",
      "---  ------            --------------  ----- \n",
      " 0   Release Year      10343 non-null  int64 \n",
      " 1   Title             10343 non-null  object\n",
      " 2   Origin/Ethnicity  10343 non-null  object\n",
      " 3   Director          10343 non-null  object\n",
      " 4   Genre             10343 non-null  object\n",
      " 5   Plot              10343 non-null  object\n",
      " 6   plot_length       10343 non-null  int64 \n",
      "dtypes: int64(2), object(5)\n",
      "memory usage: 646.4+ KB\n"
     ]
    }
   ],
   "source": [
    "data.info()"
   ]
  },
  {
   "cell_type": "markdown",
   "id": "01b9524c-fef4-47cf-9ad1-13b75870dc68",
   "metadata": {},
   "source": [
    "## Baseline"
   ]
  },
  {
   "cell_type": "code",
   "execution_count": 10,
   "id": "14cb6cc9-07a5-4bad-9676-4abae6cd5f9f",
   "metadata": {},
   "outputs": [
    {
     "data": {
      "text/plain": [
       "drama     0.576622\n",
       "comedy    0.423378\n",
       "Name: Genre, dtype: float64"
      ]
     },
     "execution_count": 10,
     "metadata": {},
     "output_type": "execute_result"
    }
   ],
   "source": [
    "data['Genre'].value_counts(normalize=True)"
   ]
  },
  {
   "cell_type": "code",
   "execution_count": 12,
   "id": "3a774660-b74d-4b8b-bdb7-da0285820802",
   "metadata": {},
   "outputs": [],
   "source": [
    "X_train, X_test, y_train, y_test = train_test_split(data['Plot'], data['Genre'])"
   ]
  },
  {
   "cell_type": "markdown",
   "id": "2d288914-9ba3-4df7-b7ba-f88d87d60115",
   "metadata": {},
   "source": [
    "## Make some models"
   ]
  },
  {
   "cell_type": "markdown",
   "id": "30eb817d-3d4e-44e2-8c3a-e7e56233f8ee",
   "metadata": {},
   "source": [
    "### Basic Log Model"
   ]
  },
  {
   "cell_type": "code",
   "execution_count": 26,
   "id": "85301774-83ce-40ba-a671-a0cbf8b94b82",
   "metadata": {},
   "outputs": [],
   "source": [
    "cvect = CountVectorizer()"
   ]
  },
  {
   "cell_type": "code",
   "execution_count": 13,
   "id": "635168f1-c1bf-4a57-9707-44988a66092f",
   "metadata": {},
   "outputs": [],
   "source": [
    "X_train_vect = cvect.fit_transform(X_train)\n",
    "X_test_vect = cvect.transform(X_test)"
   ]
  },
  {
   "cell_type": "code",
   "execution_count": 18,
   "id": "2fc2618a-204a-4382-b690-630d95dfab13",
   "metadata": {},
   "outputs": [],
   "source": [
    "logr = LogisticRegression(max_iter=1000)"
   ]
  },
  {
   "cell_type": "code",
   "execution_count": 19,
   "id": "609fe325-c1b6-42de-a8bb-32308e46a588",
   "metadata": {},
   "outputs": [
    {
     "data": {
      "text/plain": [
       "LogisticRegression(max_iter=1000)"
      ]
     },
     "execution_count": 19,
     "metadata": {},
     "output_type": "execute_result"
    }
   ],
   "source": [
    "logr.fit(X_train_vect, y_train)"
   ]
  },
  {
   "cell_type": "code",
   "execution_count": 20,
   "id": "41966b31-29a9-4ad1-b9ac-87e74fa49c84",
   "metadata": {},
   "outputs": [
    {
     "data": {
      "text/plain": [
       "0.7459396751740139"
      ]
     },
     "execution_count": 20,
     "metadata": {},
     "output_type": "execute_result"
    }
   ],
   "source": [
    "logr.score(X_test_vect, y_test)"
   ]
  },
  {
   "cell_type": "markdown",
   "id": "e91c6baf-c94e-43b2-909b-59f16f201c17",
   "metadata": {},
   "source": [
    "Better than the null model but let's see if we can improve on this"
   ]
  },
  {
   "cell_type": "markdown",
   "id": "c0f7d200-dd55-43e8-b252-73fbd05756c2",
   "metadata": {},
   "source": [
    "#### Adding standard scaler"
   ]
  },
  {
   "cell_type": "code",
   "execution_count": 21,
   "id": "81178898-7060-45be-9bf1-bf40627251a5",
   "metadata": {},
   "outputs": [],
   "source": [
    "scaler = StandardScaler(with_mean=False)"
   ]
  },
  {
   "cell_type": "code",
   "execution_count": 22,
   "id": "614d2cac-c16b-407a-bc7e-e96bd7a2fddc",
   "metadata": {},
   "outputs": [],
   "source": [
    "X_train_scaled = scaler.fit_transform(X_train_vect)\n",
    "X_test_scaled = scaler.transform(X_test_vect)"
   ]
  },
  {
   "cell_type": "code",
   "execution_count": 23,
   "id": "1694de85-10fa-419b-8a11-ff4890ea8b3c",
   "metadata": {},
   "outputs": [
    {
     "data": {
      "text/plain": [
       "0.9998710841820291"
      ]
     },
     "execution_count": 23,
     "metadata": {},
     "output_type": "execute_result"
    }
   ],
   "source": [
    "logr.fit(X_train_scaled, y_train)\n",
    "logr.score(X_train_scaled, y_train)"
   ]
  },
  {
   "cell_type": "code",
   "execution_count": 24,
   "id": "2d50d12c-e8c2-42ae-9883-b34a2f59e626",
   "metadata": {},
   "outputs": [
    {
     "data": {
      "text/plain": [
       "0.7219644238205724"
      ]
     },
     "execution_count": 24,
     "metadata": {},
     "output_type": "execute_result"
    }
   ],
   "source": [
    "logr.score(X_test_scaled, y_test)"
   ]
  },
  {
   "cell_type": "markdown",
   "id": "64c68ef9-bc86-46e0-8a37-35f4afceb1d2",
   "metadata": {},
   "source": [
    "### Log model with Tfidf"
   ]
  },
  {
   "cell_type": "code",
   "execution_count": 27,
   "id": "5e667675-9814-4a7b-a45b-7705dd1f4b57",
   "metadata": {},
   "outputs": [],
   "source": [
    "tfidf = TfidfVectorizer()"
   ]
  },
  {
   "cell_type": "code",
   "execution_count": 28,
   "id": "5f92f8a1-e4c7-4d34-a179-47499bc2764d",
   "metadata": {},
   "outputs": [],
   "source": [
    "X_train_tf = tfidf.fit_transform(X_train)\n",
    "X_test_tf = tfidf.transform(X_test)"
   ]
  },
  {
   "cell_type": "code",
   "execution_count": 29,
   "id": "c8bbd159-145f-47b6-9f02-8ad4a56e4374",
   "metadata": {},
   "outputs": [
    {
     "data": {
      "text/plain": [
       "0.9036998839757638"
      ]
     },
     "execution_count": 29,
     "metadata": {},
     "output_type": "execute_result"
    }
   ],
   "source": [
    "logr.fit(X_train_tf, y_train)\n",
    "logr.score(X_train_tf, y_train)"
   ]
  },
  {
   "cell_type": "code",
   "execution_count": 30,
   "id": "fc3c9ca9-96a0-4291-a162-cf135a34f34b",
   "metadata": {},
   "outputs": [
    {
     "data": {
      "text/plain": [
       "0.7614075792730085"
      ]
     },
     "execution_count": 30,
     "metadata": {},
     "output_type": "execute_result"
    }
   ],
   "source": [
    "logr.score(X_test_tf, y_test)"
   ]
  },
  {
   "cell_type": "markdown",
   "id": "24bf2d42-2697-4b68-a171-b35bbfae6648",
   "metadata": {},
   "source": [
    "Best model yet. Let's optimize it"
   ]
  },
  {
   "cell_type": "markdown",
   "id": "c1a6e269-9afb-4dc8-a947-60daeea4e883",
   "metadata": {},
   "source": [
    "## Grid Search/Pipeline time"
   ]
  },
  {
   "cell_type": "code",
   "execution_count": 35,
   "id": "14cfc0b0-104c-42c0-901a-5764de252480",
   "metadata": {},
   "outputs": [
    {
     "data": {
      "text/plain": [
       "(7757,)"
      ]
     },
     "execution_count": 35,
     "metadata": {},
     "output_type": "execute_result"
    }
   ],
   "source": [
    "X_train.shape"
   ]
  },
  {
   "cell_type": "code",
   "execution_count": 31,
   "id": "ae001d83-e8ff-4578-9118-0c126f631fe5",
   "metadata": {},
   "outputs": [],
   "source": [
    "pipe = make_pipeline(TfidfVectorizer(), LogisticRegression())"
   ]
  },
  {
   "cell_type": "code",
   "execution_count": 36,
   "id": "bb549f68-7618-4d87-be67-22353ab6a3fe",
   "metadata": {},
   "outputs": [],
   "source": [
    "params = {\n",
    "    'tfidfvectorizer__stop_words': ['english', None],\n",
    "    'tfidfvectorizer__max_features': [1000, 2500, 5000, 7500, None],\n",
    "    'tfidfvectorizer__ngram_range': [(1, 1), (1, 2), (1, 3), (2, 2), (2, 3), (3, 3)],\n",
    "    'logisticregression__C': [0.01, 0.1, 1, 10, 100]\n",
    "}"
   ]
  },
  {
   "cell_type": "code",
   "execution_count": 37,
   "id": "2c0e0587-1423-4ff0-8921-375995e2beb0",
   "metadata": {},
   "outputs": [],
   "source": [
    "gs = GridSearchCV(pipe, params, n_jobs = -1)"
   ]
  },
  {
   "cell_type": "code",
   "execution_count": 38,
   "id": "a7f59931-4524-426c-832d-6aea7adb3bfb",
   "metadata": {},
   "outputs": [
    {
     "name": "stdout",
     "output_type": "stream",
     "text": [
      "CPU times: user 24 s, sys: 15 s, total: 39 s\n",
      "Wall time: 44min 33s\n"
     ]
    },
    {
     "name": "stderr",
     "output_type": "stream",
     "text": [
      "/Users/juliana/miniforge3/envs/tensorflow/lib/python3.8/site-packages/sklearn/linear_model/_logistic.py:763: ConvergenceWarning: lbfgs failed to converge (status=1):\n",
      "STOP: TOTAL NO. of ITERATIONS REACHED LIMIT.\n",
      "\n",
      "Increase the number of iterations (max_iter) or scale the data as shown in:\n",
      "    https://scikit-learn.org/stable/modules/preprocessing.html\n",
      "Please also refer to the documentation for alternative solver options:\n",
      "    https://scikit-learn.org/stable/modules/linear_model.html#logistic-regression\n",
      "  n_iter_i = _check_optimize_result(\n"
     ]
    },
    {
     "data": {
      "text/plain": [
       "GridSearchCV(estimator=Pipeline(steps=[('tfidfvectorizer', TfidfVectorizer()),\n",
       "                                       ('logisticregression',\n",
       "                                        LogisticRegression())]),\n",
       "             n_jobs=-1,\n",
       "             param_grid={'logisticregression__C': [0.01, 0.1, 1, 10, 100],\n",
       "                         'tfidfvectorizer__max_features': [1000, 2500, 5000,\n",
       "                                                           7500, None],\n",
       "                         'tfidfvectorizer__ngram_range': [(1, 1), (1, 2),\n",
       "                                                          (1, 3), (2, 2),\n",
       "                                                          (2, 3), (3, 3)],\n",
       "                         'tfidfvectorizer__stop_words': ['english', None]})"
      ]
     },
     "execution_count": 38,
     "metadata": {},
     "output_type": "execute_result"
    }
   ],
   "source": [
    "%%time\n",
    "gs.fit(X_train, y_train)"
   ]
  },
  {
   "cell_type": "code",
   "execution_count": 39,
   "id": "21ca105e-4ffa-4e57-84da-5beea3075fb8",
   "metadata": {},
   "outputs": [
    {
     "data": {
      "text/plain": [
       "Pipeline(steps=[('tfidfvectorizer', TfidfVectorizer(ngram_range=(1, 2))),\n",
       "                ('logisticregression', LogisticRegression(C=100))])"
      ]
     },
     "execution_count": 39,
     "metadata": {},
     "output_type": "execute_result"
    }
   ],
   "source": [
    "gs.best_estimator_"
   ]
  },
  {
   "cell_type": "code",
   "execution_count": 42,
   "id": "e009f1ac-1717-4b45-8ec5-c019d51c5d4b",
   "metadata": {},
   "outputs": [
    {
     "data": {
      "text/plain": [
       "{'logisticregression__C': 100,\n",
       " 'tfidfvectorizer__max_features': None,\n",
       " 'tfidfvectorizer__ngram_range': (1, 2),\n",
       " 'tfidfvectorizer__stop_words': None}"
      ]
     },
     "execution_count": 42,
     "metadata": {},
     "output_type": "execute_result"
    }
   ],
   "source": [
    "gs.best_params_"
   ]
  },
  {
   "cell_type": "code",
   "execution_count": 40,
   "id": "e2dee73d-b138-4a50-a8ac-f47c3c96e137",
   "metadata": {},
   "outputs": [
    {
     "data": {
      "text/plain": [
       "0.7815158546017015"
      ]
     },
     "execution_count": 40,
     "metadata": {},
     "output_type": "execute_result"
    }
   ],
   "source": [
    "gs.score(X_test, y_test)"
   ]
  },
  {
   "cell_type": "code",
   "execution_count": 43,
   "id": "c5cb2c9c-66e6-455e-8203-15c1ac929786",
   "metadata": {},
   "outputs": [],
   "source": [
    "pipe2 = make_pipeline(TfidfVectorizer(ngram_range = (1, 2)), LogisticRegression(C=100, max_iter=1000))"
   ]
  },
  {
   "cell_type": "code",
   "execution_count": 44,
   "id": "d1d54950-9959-49bc-8a2e-eefeb5e1d37b",
   "metadata": {},
   "outputs": [
    {
     "data": {
      "text/plain": [
       "0.9998710841820291"
      ]
     },
     "execution_count": 44,
     "metadata": {},
     "output_type": "execute_result"
    }
   ],
   "source": [
    "pipe2.fit(X_train, y_train)\n",
    "pipe2.score(X_train, y_train)"
   ]
  },
  {
   "cell_type": "code",
   "execution_count": 45,
   "id": "c79c8ad2-01f3-4703-b5f8-5e1dd90e8cc4",
   "metadata": {},
   "outputs": [
    {
     "data": {
      "text/plain": [
       "0.7819025522041764"
      ]
     },
     "execution_count": 45,
     "metadata": {},
     "output_type": "execute_result"
    }
   ],
   "source": [
    "pipe2.score(X_test, y_test)"
   ]
  },
  {
   "cell_type": "code",
   "execution_count": 46,
   "id": "6daeb4c0-eb5a-473d-816a-24a889e61c46",
   "metadata": {},
   "outputs": [
    {
     "data": {
      "text/plain": [
       "<sklearn.metrics._plot.confusion_matrix.ConfusionMatrixDisplay at 0x2a3b9f640>"
      ]
     },
     "execution_count": 46,
     "metadata": {},
     "output_type": "execute_result"
    },
    {
     "data": {
      "image/png": "[encoded data removed]",
      "text/plain": [
       "<Figure size 432x288 with 2 Axes>"
      ]
     },
     "metadata": {
      "needs_background": "light"
     },
     "output_type": "display_data"
    }
   ],
   "source": [
    "plot_confusion_matrix(pipe2, X_test, y_test)"
   ]
  },
  {
   "cell_type": "markdown",
   "id": "6510a617-43ce-4491-a7a5-30b47ab9c26d",
   "metadata": {},
   "source": [
    "## Trying some lemmatization"
   ]
  },
  {
   "cell_type": "code",
   "execution_count": 48,
   "id": "58319931-cb38-446e-b84b-71d6bb0d1c77",
   "metadata": {},
   "outputs": [],
   "source": [
    "nlp = spacy.load('en_core_web_sm')"
   ]
  },
  {
   "cell_type": "code",
   "execution_count": 49,
   "id": "6bc4d703-ee0b-4630-bf6e-a7ad166f9011",
   "metadata": {},
   "outputs": [],
   "source": [
    "def lemmatizer(text):\n",
    "    doc = nlp(text)\n",
    "    return [token.lemma_ for token in doc]"
   ]
  },
  {
   "cell_type": "code",
   "execution_count": 51,
   "id": "927717bb-3941-4fe0-bd5f-b2390242f136",
   "metadata": {},
   "outputs": [],
   "source": [
    "pipe3 = make_pipeline(TfidfVectorizer(ngram_range = (1, 2), tokenizer=lemmatizer), LogisticRegression(C=100, max_iter=1000))"
   ]
  },
  {
   "cell_type": "code",
   "execution_count": 52,
   "id": "976594da-f8fa-400b-aede-9fc409b8a5ee",
   "metadata": {},
   "outputs": [
    {
     "name": "stdout",
     "output_type": "stream",
     "text": [
      "CPU times: user 17min 7s, sys: 14.2 s, total: 17min 21s\n",
      "Wall time: 17min 46s\n"
     ]
    },
    {
     "data": {
      "text/plain": [
       "Pipeline(steps=[('tfidfvectorizer',\n",
       "                 TfidfVectorizer(ngram_range=(1, 2),\n",
       "                                 tokenizer=<function lemmatizer at 0x2b1da0d30>)),\n",
       "                ('logisticregression',\n",
       "                 LogisticRegression(C=100, max_iter=1000))])"
      ]
     },
     "execution_count": 52,
     "metadata": {},
     "output_type": "execute_result"
    }
   ],
   "source": [
    "%%time\n",
    "pipe3.fit(X_train, y_train)"
   ]
  },
  {
   "cell_type": "code",
   "execution_count": 53,
   "id": "e6f5dd25-eb99-40d4-b7ef-de849ea73ba7",
   "metadata": {},
   "outputs": [
    {
     "name": "stdout",
     "output_type": "stream",
     "text": [
      "CPU times: user 5min 47s, sys: 4.46 s, total: 5min 52s\n",
      "Wall time: 6min 1s\n"
     ]
    },
    {
     "data": {
      "text/plain": [
       "0.7877030162412993"
      ]
     },
     "execution_count": 53,
     "metadata": {},
     "output_type": "execute_result"
    }
   ],
   "source": [
    "%%time\n",
    "pipe3.score(X_test, y_test)"
   ]
  },
  {
   "cell_type": "code",
   "execution_count": null,
   "id": "81e2fa52-d709-4abb-8ae5-b64f59f8f8b1",
   "metadata": {},
   "outputs": [],
   "source": []
  }
 ],
 "metadata": {
  "kernelspec": {
   "display_name": "Python 3",
   "language": "python",
   "name": "python3"
  },
  "language_info": {
   "codemirror_mode": {
    "name": "ipython",
    "version": 3
   },
   "file_extension": ".py",
   "mimetype": "text/x-python",
   "name": "python",
   "nbconvert_exporter": "python",
   "pygments_lexer": "ipython3",
   "version": "3.8.8"
  }
 },
 "nbformat": 4,
 "nbformat_minor": 5
}
